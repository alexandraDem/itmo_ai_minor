{
  "nbformat": 4,
  "nbformat_minor": 0,
  "metadata": {
    "colab": {
      "provenance": []
    },
    "kernelspec": {
      "name": "python3",
      "display_name": "Python 3"
    },
    "language_info": {
      "name": "python"
    }
  },
  "cells": [
    {
      "cell_type": "markdown",
      "source": [
        "Создайте класс Chocolate (для определения шоколадного батончика), принимающий следующие аргументы при инициализации:\n",
        "- цена батончика (тип - float)\n",
        "- добавка к шоколаду (необязательный аргумент, тип - str)\n",
        "- наличие орехов (тип - bool)\n",
        "- количество орехов (тип - int)\n",
        "\n",
        "\n",
        "При инициализации необходимо проверять, чтобы цена батончика была больше нуля, если цена меньше нуля необходимо вызывать исключение ValueError\n",
        "\n",
        "Реализуйте метод show_my_chocolate, выводящий на печать \"Шоколадный батончик, добавка: {ДОБАВКА}\" в случае наличия добавки, а иначе должна отобразиться следующая фраза: \"Обычный шоколадный батончик\" - 1 балл\n",
        "\n",
        "Реализуйте метод count_nuts, выводящий на печать столько * какое количество орехов присутствует в батончике - 1 балл\n",
        "\n",
        "Переопределите метод \\_\\_str\\_\\_, который при применении функции print() к объекты класса Chocolate должен возвращать строку \"Шоколадный батончик, <ЦЕНА> рублей\"\n",
        "\n",
        "Продемонстрируйте использование соответствующего функционала вашего класса, создав несколько объектов Chocolate с различными аргументами"
      ],
      "metadata": {
        "id": "23hZjYTCSExB"
      }
    },
    {
      "cell_type": "code",
      "execution_count": 8,
      "metadata": {
        "id": "JOgAr4Q4QJgS"
      },
      "outputs": [],
      "source": [
        "class Chocolate:\n",
        "    def __init__(self, price: float, addition: str = None, has_nuts: bool = False, nut_count: int = 0):\n",
        "        if price <= 0:\n",
        "            raise ValueError(\"Цена батончика должна быть больше нуля!\")\n",
        "        self.price = price\n",
        "        self.addition = addition\n",
        "        self.has_nuts = has_nuts\n",
        "        self.nut_count = nut_count\n",
        "\n",
        "    def show_my_chocolate(self):\n",
        "        if self.addition:\n",
        "            print(f\"Шоколадный батончик, добавка: {self.addition}\")\n",
        "        else:\n",
        "            print(\"Обычный шоколадный батончик\")\n",
        "\n",
        "    def count_nuts(self):\n",
        "        if self.has_nuts and self.nut_count > 0:\n",
        "            print(\"*\" * self.nut_count)\n",
        "        elif self.has_nuts and self.nut_count == 0:\n",
        "            print(\"Орехи есть, но их количество не указано.\")\n",
        "        else:\n",
        "            print(\"Без орехов\")\n",
        "\n",
        "    def __str__(self):\n",
        "        return f\"Шоколадный батончик, {self.price} рублей\""
      ]
    },
    {
      "cell_type": "code",
      "source": [
        "# обычный батончик без добавок\n",
        "choco1 = Chocolate(price=100.0)\n",
        "choco1.show_my_chocolate()\n",
        "choco1.count_nuts()\n",
        "print(choco1)\n",
        "print()\n",
        "\n",
        "# батончик с добавкой\n",
        "choco2 = Chocolate(price=150.0, addition=\"карамель\", has_nuts=False)\n",
        "choco2.show_my_chocolate()\n",
        "choco2.count_nuts()\n",
        "print(choco2)\n",
        "print()\n",
        "\n",
        "# батончик с орехами\n",
        "choco3 = Chocolate(price=200.0, has_nuts=True, nut_count=5)\n",
        "choco3.show_my_chocolate()\n",
        "choco3.count_nuts()\n",
        "print(choco3)\n",
        "print()\n",
        "\n",
        "# батончик с добавкой и орехами\n",
        "choco4 = Chocolate(price=250.0, addition=\"вишня\", has_nuts=True, nut_count=3)\n",
        "choco4.show_my_chocolate()\n",
        "choco4.count_nuts()\n",
        "print(choco4)"
      ],
      "metadata": {
        "colab": {
          "base_uri": "https://localhost:8080/"
        },
        "id": "nvZD5QGGRFOo",
        "outputId": "f1ae97b5-eb0a-4f22-9a64-987dec854b07"
      },
      "execution_count": 9,
      "outputs": [
        {
          "output_type": "stream",
          "name": "stdout",
          "text": [
            "Обычный шоколадный батончик\n",
            "Без орехов\n",
            "Шоколадный батончик, 100.0 рублей\n",
            "\n",
            "Шоколадный батончик, добавка: карамель\n",
            "Без орехов\n",
            "Шоколадный батончик, 150.0 рублей\n",
            "\n",
            "Обычный шоколадный батончик\n",
            "*****\n",
            "Шоколадный батончик, 200.0 рублей\n",
            "\n",
            "Шоколадный батончик, добавка: вишня\n",
            "***\n",
            "Шоколадный батончик, 250.0 рублей\n"
          ]
        }
      ]
    },
    {
      "cell_type": "code",
      "source": [
        "# Пример обработки ошибки\n",
        "choco5 = Chocolate(price=-10.0, addition=\"вишня\", has_nuts=True, nut_count=3)\n",
        "choco5.show_my_chocolate()\n",
        "choco5.count_nuts()\n",
        "print(choco4)"
      ],
      "metadata": {
        "colab": {
          "base_uri": "https://localhost:8080/",
          "height": 341
        },
        "id": "P1rGmLiWRsGO",
        "outputId": "58e2bd45-6789-4289-bb30-e2d5e69ebf0e"
      },
      "execution_count": 10,
      "outputs": [
        {
          "output_type": "error",
          "ename": "ValueError",
          "evalue": "Цена батончика должна быть больше нуля!",
          "traceback": [
            "\u001b[0;31m---------------------------------------------------------------------------\u001b[0m",
            "\u001b[0;31mValueError\u001b[0m                                Traceback (most recent call last)",
            "\u001b[0;32m/tmp/ipython-input-2349034846.py\u001b[0m in \u001b[0;36m<cell line: 0>\u001b[0;34m()\u001b[0m\n\u001b[1;32m      1\u001b[0m \u001b[0;31m# Пример обработки ошибки\u001b[0m\u001b[0;34m\u001b[0m\u001b[0;34m\u001b[0m\u001b[0m\n\u001b[0;32m----> 2\u001b[0;31m \u001b[0mchoco5\u001b[0m \u001b[0;34m=\u001b[0m \u001b[0mChocolate\u001b[0m\u001b[0;34m(\u001b[0m\u001b[0mprice\u001b[0m\u001b[0;34m=\u001b[0m\u001b[0;34m-\u001b[0m\u001b[0;36m10.0\u001b[0m\u001b[0;34m,\u001b[0m \u001b[0maddition\u001b[0m\u001b[0;34m=\u001b[0m\u001b[0;34m\"вишня\"\u001b[0m\u001b[0;34m,\u001b[0m \u001b[0mhas_nuts\u001b[0m\u001b[0;34m=\u001b[0m\u001b[0;32mTrue\u001b[0m\u001b[0;34m,\u001b[0m \u001b[0mnut_count\u001b[0m\u001b[0;34m=\u001b[0m\u001b[0;36m3\u001b[0m\u001b[0;34m)\u001b[0m\u001b[0;34m\u001b[0m\u001b[0;34m\u001b[0m\u001b[0m\n\u001b[0m\u001b[1;32m      3\u001b[0m \u001b[0mchoco5\u001b[0m\u001b[0;34m.\u001b[0m\u001b[0mshow_my_chocolate\u001b[0m\u001b[0;34m(\u001b[0m\u001b[0;34m)\u001b[0m\u001b[0;34m\u001b[0m\u001b[0;34m\u001b[0m\u001b[0m\n\u001b[1;32m      4\u001b[0m \u001b[0mchoco5\u001b[0m\u001b[0;34m.\u001b[0m\u001b[0mcount_nuts\u001b[0m\u001b[0;34m(\u001b[0m\u001b[0;34m)\u001b[0m\u001b[0;34m\u001b[0m\u001b[0;34m\u001b[0m\u001b[0m\n\u001b[1;32m      5\u001b[0m \u001b[0mprint\u001b[0m\u001b[0;34m(\u001b[0m\u001b[0mchoco4\u001b[0m\u001b[0;34m)\u001b[0m\u001b[0;34m\u001b[0m\u001b[0;34m\u001b[0m\u001b[0m\n",
            "\u001b[0;32m/tmp/ipython-input-877148433.py\u001b[0m in \u001b[0;36m__init__\u001b[0;34m(self, price, addition, has_nuts, nut_count)\u001b[0m\n\u001b[1;32m      2\u001b[0m     \u001b[0;32mdef\u001b[0m \u001b[0m__init__\u001b[0m\u001b[0;34m(\u001b[0m\u001b[0mself\u001b[0m\u001b[0;34m,\u001b[0m \u001b[0mprice\u001b[0m\u001b[0;34m:\u001b[0m \u001b[0mfloat\u001b[0m\u001b[0;34m,\u001b[0m \u001b[0maddition\u001b[0m\u001b[0;34m:\u001b[0m \u001b[0mstr\u001b[0m \u001b[0;34m=\u001b[0m \u001b[0;32mNone\u001b[0m\u001b[0;34m,\u001b[0m \u001b[0mhas_nuts\u001b[0m\u001b[0;34m:\u001b[0m \u001b[0mbool\u001b[0m \u001b[0;34m=\u001b[0m \u001b[0;32mFalse\u001b[0m\u001b[0;34m,\u001b[0m \u001b[0mnut_count\u001b[0m\u001b[0;34m:\u001b[0m \u001b[0mint\u001b[0m \u001b[0;34m=\u001b[0m \u001b[0;36m0\u001b[0m\u001b[0;34m)\u001b[0m\u001b[0;34m:\u001b[0m\u001b[0;34m\u001b[0m\u001b[0;34m\u001b[0m\u001b[0m\n\u001b[1;32m      3\u001b[0m         \u001b[0;32mif\u001b[0m \u001b[0mprice\u001b[0m \u001b[0;34m<=\u001b[0m \u001b[0;36m0\u001b[0m\u001b[0;34m:\u001b[0m\u001b[0;34m\u001b[0m\u001b[0;34m\u001b[0m\u001b[0m\n\u001b[0;32m----> 4\u001b[0;31m             \u001b[0;32mraise\u001b[0m \u001b[0mValueError\u001b[0m\u001b[0;34m(\u001b[0m\u001b[0;34m\"Цена батончика должна быть больше нуля!\"\u001b[0m\u001b[0;34m)\u001b[0m\u001b[0;34m\u001b[0m\u001b[0;34m\u001b[0m\u001b[0m\n\u001b[0m\u001b[1;32m      5\u001b[0m         \u001b[0mself\u001b[0m\u001b[0;34m.\u001b[0m\u001b[0mprice\u001b[0m \u001b[0;34m=\u001b[0m \u001b[0mprice\u001b[0m\u001b[0;34m\u001b[0m\u001b[0;34m\u001b[0m\u001b[0m\n\u001b[1;32m      6\u001b[0m         \u001b[0mself\u001b[0m\u001b[0;34m.\u001b[0m\u001b[0maddition\u001b[0m \u001b[0;34m=\u001b[0m \u001b[0maddition\u001b[0m\u001b[0;34m\u001b[0m\u001b[0;34m\u001b[0m\u001b[0m\n",
            "\u001b[0;31mValueError\u001b[0m: Цена батончика должна быть больше нуля!"
          ]
        }
      ]
    },
    {
      "cell_type": "code",
      "source": [],
      "metadata": {
        "id": "wF2YnwmLSlb4"
      },
      "execution_count": null,
      "outputs": []
    }
  ]
}
